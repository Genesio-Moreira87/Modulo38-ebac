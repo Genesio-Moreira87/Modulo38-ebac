{
  "nbformat": 4,
  "nbformat_minor": 0,
  "metadata": {
    "colab": {
      "provenance": [],
      "collapsed_sections": [
        "JG1HL69-j0lH",
        "s_Dj-BgThLg5",
        "jeEzLmuRhDQy",
        "PoTeRwlihDQ0",
        "QpMlxqRyhDQ1",
        "ov7Fg-mWhDQ1",
        "DvHPNAoPgdiG",
        "3SMp5GwjglJm",
        "e3ieQfXTgqd3",
        "L0pKWNr5fm9z",
        "DMhCpOU_gupo",
        "l3h0WP2Eg2ht",
        "rWG4Vk6XaWtf",
        "wkibgd8rB8y3",
        "IjPaJtnYE0MI",
        "2lpj1rszc--m",
        "HnWg_mhLd5gC",
        "RhqmXiHQo-is",
        "SvT9xrajLL7J",
        "91eSyA2cLLqv"
      ],
      "toc_visible": true
    },
    "kernelspec": {
      "name": "python3",
      "display_name": "Python 3"
    }
  },
  "cells": [
    {
      "cell_type": "markdown",
      "metadata": {
        "id": "KJqp9AANOCtf"
      },
      "source": [
        "<img src=\"https://raw.githubusercontent.com/andre-marcos-perez/ebac-course-utils/main/media/logo/newebac_logo_black_half.png\" alt=\"ebac-logo\">\n",
        "\n",
        "---\n",
        "\n",
        "# **Módulo** | Computação em Nuvem II\n",
        "Caderno de **Exercícios**<br>\n",
        "Professor [André Perez](https://www.linkedin.com/in/andremarcosperez/)\n",
        "\n",
        "---"
      ]
    },
    {
      "cell_type": "markdown",
      "metadata": {
        "id": "d9jDtUbDOE1-"
      },
      "source": [
        "# **Tópicos**\n",
        "\n",
        "<ol type=\"1\">\n",
        "  <li>AWS Lambda;</li>\n",
        "  <li>AWS Step Functions;</li>\n",
        "  <li>AWS EventBridge.</li>\n",
        "</ol>"
      ]
    },
    {
      "cell_type": "markdown",
      "metadata": {
        "id": "SmoHgt-lwkpD"
      },
      "source": [
        "---"
      ]
    },
    {
      "cell_type": "markdown",
      "metadata": {
        "id": "GABI6OW8OfQ2"
      },
      "source": [
        "# **Exercícios**"
      ]
    },
    {
      "cell_type": "markdown",
      "metadata": {
        "id": "ne7Ay0HKaGSv"
      },
      "source": [
        "## 1\\. AWS Lambda"
      ]
    },
    {
      "cell_type": "markdown",
      "source": [
        "### **1.1. Extração**"
      ],
      "metadata": {
        "id": "DLjZMtmChKL2"
      }
    },
    {
      "cell_type": "markdown",
      "source": [
        "Extraindo dados da site da [B3](https://www.b3.com.br/pt_br/) através de uma [API](https://www2.cetip.com.br/ConsultarTaxaDi/ConsultarTaxaDICetip.aspx):"
      ],
      "metadata": {
        "id": "ChqbneAIhN2P"
      }
    },
    {
      "cell_type": "code",
      "source": [
        "import json\n",
        "from datetime import datetime\n",
        "\n",
        "import requests\n",
        "\n",
        "# -- setup\n",
        "\n",
        "URL = 'https://www2.cetip.com.br/ConsultarTaxaDi/ConsultarTaxaDICetip.aspx'\n",
        "\n",
        "# -- extract\n",
        "\n",
        "try:\n",
        "  response = requests.get(URL)\n",
        "  response.raise_for_status()\n",
        "except Exception as exc:\n",
        "  raise exc\n",
        "else:\n",
        "  data = json.loads(response.text)\n",
        "  print(f'1: Json - {data}')\n",
        "\n",
        "# -- transform\n",
        "\n",
        "data['taxa'] = data['taxa'].replace(',', '.')\n",
        "data['indice'] = data['indice'].replace('.', '').replace(',', '.')\n",
        "\n",
        "data['dataTaxa'] = datetime.strptime(data['dataTaxa'], '%d/%m/%Y').strftime('%Y-%m-%d')\n",
        "data['dataIndice'] = datetime.strptime(data['dataIndice'], '%d/%m/%Y').strftime('%Y-%m-%d')\n",
        "data['dataReferencia'] = datetime.now().strftime('%Y-%m-%d')\n",
        "\n",
        "data_csv = ','.join([v for v in data.values()])\n",
        "\n",
        "print(f'2 Transformado: - {data}')\n",
        "print(f'3 csv: - {data_csv}')"
      ],
      "metadata": {
        "colab": {
          "base_uri": "https://localhost:8080/"
        },
        "id": "zM7_Ck8RhV9g",
        "outputId": "9a3a4091-0bda-4f8a-c657-fb65f9efb803"
      },
      "execution_count": null,
      "outputs": [
        {
          "output_type": "stream",
          "name": "stdout",
          "text": [
            "1: Json - {'taxa': '11,65', 'dataTaxa': '09/01/2024', 'indice': '42.936,83', 'dataIndice': '10/01/2024'}\n",
            "2 Transformado: - {'taxa': '11.65', 'dataTaxa': '2024-01-09', 'indice': '42936.83', 'dataIndice': '2024-01-10', 'dataReferencia': '2024-01-09'}\n",
            "3 csv: - 11.65,2024-01-09,42936.83,2024-01-10,2024-01-09\n"
          ]
        }
      ]
    },
    {
      "cell_type": "markdown",
      "source": [
        "Dividindo essa etapa em duas: extração e transformação. Logo, temos que:"
      ],
      "metadata": {
        "id": "VTFqQKHoiFEn"
      }
    },
    {
      "cell_type": "markdown",
      "source": [
        "- Criar um *bucket* no AWS [S3](https://aws.amazon.com/pt/s3/) para salvar o dado original (`bronze`); - OK  \n",
        "\n",
        "![](https://github.com/Genesio-Moreira87/Modulo38-ebac/blob/main/images/Criar%20um%20bucket%20no%20AWS%20S3%20para%20salvar%20o%20dado%20original%20bronze.jpg?raw=true)  \n",
        "\n",
        "- Criar uma função AWS [Lambda](https://aws.amazon.com/pt/lambda/) para extrair o dado original; - OK  \n",
        "\n",
        "![](https://github.com/Genesio-Moreira87/Modulo38-ebac/blob/main/images/Criar%20uma%20fun%C3%A7%C3%A3o%20AWS%20Lambda%20para%20extrair%20o%20dado%20original.jpg?raw=true)  \n",
        "\n",
        "- Criar um *bucket* no AWS [S3](https://aws.amazon.com/pt/s3/) para salvar o dado transformado  (`silver`); - OK  \n",
        "\n",
        "![](https://github.com/Genesio-Moreira87/Modulo38-ebac/blob/main/images/-%20Criar%20um%20bucket%20no%20AWS%20S3%20para%20salvar%20o%20dado%20transformado%20silver.jpg?raw=true)  \n",
        "\n",
        "- Criar uma função AWS [Lambda](https://aws.amazon.com/pt/lambda/) para transformar o dado original; - OK  \n",
        "\n",
        "![](https://github.com/Genesio-Moreira87/Modulo38-ebac/blob/main/images/Criar%20uma%20fun%C3%A7%C3%A3o%20AWS%20Lambda%20para%20transformar%20o%20dado%20original.jpg?raw=true)  \n",
        "\n",
        "\n",
        "- Criar uma função AWS [Lambda](https://aws.amazon.com/pt/lambda/) para criar uma tabela no AWS [Athena](https://aws.amazon.com/pt/athena) apontando para o *bucket* do dado transformado. - OK  \n",
        "\n",
        "![](https://github.com/Genesio-Moreira87/Modulo38-ebac/blob/main/images/Criar%20uma%20fun%C3%A7%C3%A3o%20AWS%20Lambda%20para%20criar%20uma%20tabela%20no%20AWS%20Athena%20apontando%20para%20o%20bucket%20do%20dado%20transformado.jpg?raw=true)  \n",
        "\n",
        "\n",
        "\n"
      ],
      "metadata": {
        "id": "wtCU2yoeiJim"
      }
    },
    {
      "cell_type": "markdown",
      "source": [
        "**Abaixo segue os respectivos codigos das Funções Lambda**"
      ],
      "metadata": {
        "id": "_zRULBEK7yvm"
      }
    },
    {
      "cell_type": "markdown",
      "source": [
        "- AWS [Lambda](https://aws.amazon.com/pt/lambda/) para *bucket* **bronze**:"
      ],
      "metadata": {
        "id": "WDgsx2TbjFh0"
      }
    },
    {
      "cell_type": "code",
      "source": [
        "import json\n",
        "import logging\n",
        "from datetime import datetime\n",
        "\n",
        "import boto3\n",
        "import urllib3\n",
        "from botocore.exceptions import ClientError\n",
        "\n",
        "\n",
        "def lambda_handler(event, context) -> bool:\n",
        "\n",
        "  # -- setup\n",
        "\n",
        "  URL = 'https://www2.cetip.com.br/ConsultarTaxaDi/ConsultarTaxaDICetip.aspx'\n",
        "  BRONZE_BUCKET = 'modulo38-ebac-genesio-moreira-bronze'\n",
        "\n",
        "  client = boto3.client('s3')\n",
        "\n",
        "  date = datetime.now().strftime('%Y-%m-%d')\n",
        "  filename_json = f'stock-exchange-{date}.json'\n",
        "\n",
        "  # -- extract\n",
        "\n",
        "  try:\n",
        "    http = urllib3.PoolManager()\n",
        "    response = http.request(url=URL, method='get')\n",
        "  except Exception as exc:\n",
        "    raise exc\n",
        "  else:\n",
        "    data = json.loads(response.data.decode())\n",
        "    logging.info(msg=data)\n",
        "\n",
        "  # -- transform\n",
        "\n",
        "  ...\n",
        "\n",
        "  # -- load\n",
        "\n",
        "  try:\n",
        "      with open(f'/tmp/{filename_json}', mode='w', encoding='utf8') as fp:\n",
        "          json.dump(data, fp)\n",
        "      client.upload_file(Filename=f'/tmp/{filename_json}', Bucket=BRONZE_BUCKET, Key=filename_json)\n",
        "  except ClientError as exc:\n",
        "      raise exc\n",
        "\n",
        "  return json.dumps(dict(status=True))"
      ],
      "metadata": {
        "id": "2VJa0MwHjNmX"
      },
      "execution_count": null,
      "outputs": []
    },
    {
      "cell_type": "markdown",
      "source": [
        "- AWS [Lambda](https://aws.amazon.com/pt/lambda/) para *bucket* **silver**:"
      ],
      "metadata": {
        "id": "E3ksOTZllfT1"
      }
    },
    {
      "cell_type": "code",
      "source": [
        "import json\n",
        "from datetime import datetime\n",
        "\n",
        "import boto3\n",
        "from botocore.exceptions import ClientError\n",
        "\n",
        "\n",
        "def lambda_handler(event, context) -> bool:\n",
        "\n",
        "  # -- setup\n",
        "\n",
        "  BRONZE_BUCKET = 'modulo38-ebac-genesio-moreira-bronze'\n",
        "  SILVER_BUCKET = 'modulo38-ebac-genesio-moreira-silver'\n",
        "\n",
        "  client = boto3.client('s3')\n",
        "\n",
        "  date = datetime.now().strftime('%Y-%m-%d')\n",
        "  filename_csv = f'stock-exchange-{date}.csv'\n",
        "  filename_json = f'stock-exchange-{date}.json'\n",
        "\n",
        "  # -- extract\n",
        "\n",
        "  client.download_file(BRONZE_BUCKET, filename_json, f'/tmp/{filename_json}')\n",
        "\n",
        "  with open(f\"/tmp/{filename_json}\", mode='r', encoding='utf8') as fp:\n",
        "      data = json.load(fp)\n",
        "\n",
        "  # -- transform\n",
        "\n",
        "  data['taxa'] = data['taxa'].replace(',', '.')\n",
        "  data['indice'] = data['indice'].replace('.', '').replace(',', '.')\n",
        "\n",
        "  data['dataTaxa'] = datetime.strptime(data['dataTaxa'], '%d/%m/%Y').strftime('%Y-%m-%d')\n",
        "  data['dataIndice'] = datetime.strptime(data['dataIndice'], '%d/%m/%Y').strftime('%Y-%m-%d')\n",
        "\n",
        "  # -- load\n",
        "\n",
        "  try:\n",
        "      with open(f'/tmp/{filename_csv}', mode='w', encoding='utf8') as fp:\n",
        "          fp.write(','.join([v for v in data.values()]))\n",
        "      client.upload_file(Filename=f'/tmp/{filename_csv}', Bucket=SILVER_BUCKET, Key=f'data_referencia={date}/{filename_csv}')\n",
        "  except ClientError as exc:\n",
        "      raise exc\n",
        "\n",
        "  return json.dumps(dict(status=True))"
      ],
      "metadata": {
        "id": "prAM89aRnxol"
      },
      "execution_count": null,
      "outputs": []
    },
    {
      "cell_type": "markdown",
      "source": [
        "- AWS [Lambda](https://aws.amazon.com/pt/lambda/) para tabela:"
      ],
      "metadata": {
        "id": "dGqYGbsooCWL"
      }
    },
    {
      "cell_type": "code",
      "source": [
        "import json\n",
        "from datetime import datetime\n",
        "\n",
        "import boto3\n",
        "from botocore.exceptions import ClientError\n",
        "\n",
        "\n",
        "def lambda_handler(event, context) -> bool:\n",
        "\n",
        "  # -- setup\n",
        "\n",
        "  SILVER_BUCKET = 'modulo38-ebac-genesio-moreira-silver'\n",
        "\n",
        "  query = f\"\"\"\n",
        "  CREATE EXTERNAL TABLE IF NOT EXISTS cdi (\n",
        "    taxa double,\n",
        "    data_taxa string,\n",
        "    indice double,\n",
        "    data_indice string\n",
        "  )\n",
        "  PARTITIONED BY (\n",
        "    data_referencia string\n",
        "  )\n",
        "  ROW FORMAT SERDE 'org.apache.hadoop.hive.serde2.OpenCSVSerde'\n",
        "  WITH SERDEPROPERTIES ('separatorChar'=',')\n",
        "  LOCATION 's3://modulo38-ebac-genesio-moreira-silver/'\n",
        "  \"\"\"\n",
        "\n",
        "  client = boto3.client('athena')\n",
        "\n",
        "  # -- create\n",
        "\n",
        "  try:\n",
        "    client.start_query_execution(\n",
        "      QueryString=query,\n",
        "      ResultConfiguration={'OutputLocation': 's3://ebac-genesio-moreira-query-results/'}\n",
        "    )\n",
        "  except ClientError as exc:\n",
        "    raise exc\n",
        "\n",
        "  # -- update\n",
        "\n",
        "  try:\n",
        "    client.start_query_execution(\n",
        "      QueryString='MSCK REPAIR TABLE cdi',\n",
        "      ResultConfiguration={'OutputLocation': 's3://ebac-genesio-moreira-query-results'}\n",
        "    )\n",
        "  except ClientError as exc:\n",
        "    raise exc\n",
        "\n",
        "  return json.dumps(dict(status=True))"
      ],
      "metadata": {
        "id": "SM0KM9Kuq6QL"
      },
      "execution_count": null,
      "outputs": []
    },
    {
      "cell_type": "markdown",
      "source": [
        "- No AWS Athena ficou da seguinte forma:  \n",
        "\n",
        "![](https://github.com/Genesio-Moreira87/Modulo38-ebac/blob/main/images/imagem_athena.jpg?raw=true)"
      ],
      "metadata": {
        "id": "fDCnaw8BrXPl"
      }
    },
    {
      "cell_type": "markdown",
      "metadata": {
        "id": "EvJTE2FpaGeU"
      },
      "source": [
        "## 2\\. AWS Step Functions"
      ]
    },
    {
      "cell_type": "markdown",
      "metadata": {
        "id": "ISYXZbomlb1x"
      },
      "source": [
        "Replique as atividades do item 2.3 em sua conta.\n"
      ]
    },
    {
      "cell_type": "markdown",
      "source": [
        "- Step Functions\n",
        "Realizado a configuração.  \n",
        "\n",
        "![](https://github.com/Genesio-Moreira87/Modulo38-ebac/blob/main/images/print_step_functions1.jpg?raw=true)  \n",
        "\n"
      ],
      "metadata": {
        "id": "khrJcBkvwgVA"
      }
    },
    {
      "cell_type": "markdown",
      "source": [
        "- Apos criado, foi executado, apresentando a seguinte saida:  \n",
        "\n",
        "![](https://github.com/Genesio-Moreira87/Modulo38-ebac/blob/main/images/execu%C3%A7%C3%A3o%20do%20step%20function.jpg?raw=true)  \n",
        "\n",
        "![](https://github.com/Genesio-Moreira87/Modulo38-ebac/blob/main/images/graph_viewn%20step%20function.jpg?raw=true)  \n"
      ],
      "metadata": {
        "id": "S7Las5U3w4XY"
      }
    },
    {
      "cell_type": "markdown",
      "metadata": {
        "id": "oVejInuPakz5"
      },
      "source": [
        "## 3\\. AWS EventBridge"
      ]
    },
    {
      "cell_type": "markdown",
      "metadata": {
        "id": "CZbuPphXakz7"
      },
      "source": [
        "Replique as atividades do item 3.3 em sua conta."
      ]
    },
    {
      "cell_type": "markdown",
      "source": [
        "- Foi realizado o EventBridge, a criaçao da regram para execução programada de no perido a cada 24 horas.  \n",
        "\n",
        "![](https://github.com/Genesio-Moreira87/Modulo38-ebac/blob/main/images/print%20amazon%20eventbridge.jpg?raw=true)  \n",
        "\n",
        "\n",
        "**Obs** :. o nome ficou modulo28, o padrao seria modulo38. porém appós criado não consigo alterar o nome do EventBridge."
      ],
      "metadata": {
        "id": "gWala8La2dZg"
      }
    }
  ]
}